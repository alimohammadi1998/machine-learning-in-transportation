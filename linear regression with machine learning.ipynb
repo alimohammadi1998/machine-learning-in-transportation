{
 "cells": [
  {
   "cell_type": "code",
   "execution_count": 1,
   "id": "a92b5ae1",
   "metadata": {},
   "outputs": [
    {
     "name": "stderr",
     "output_type": "stream",
     "text": [
      "E:\\anaconda\\lib\\site-packages\\scipy\\__init__.py:146: UserWarning: A NumPy version >=1.16.5 and <1.23.0 is required for this version of SciPy (detected version 1.24.4\n",
      "  warnings.warn(f\"A NumPy version >={np_minversion} and <{np_maxversion}\"\n"
     ]
    }
   ],
   "source": [
    "import os\n",
    "import glob\n",
    "import pandas as pd \n",
    "import numpy as np\n",
    "from scipy.stats import truncnorm\n",
    "from sklearn.model_selection import train_test_split\n",
    "from sklearn import preprocessing"
   ]
  },
  {
   "cell_type": "code",
   "execution_count": 133,
   "id": "2e21fe06",
   "metadata": {},
   "outputs": [
    {
     "data": {
      "text/html": [
       "<div>\n",
       "<style scoped>\n",
       "    .dataframe tbody tr th:only-of-type {\n",
       "        vertical-align: middle;\n",
       "    }\n",
       "\n",
       "    .dataframe tbody tr th {\n",
       "        vertical-align: top;\n",
       "    }\n",
       "\n",
       "    .dataframe thead th {\n",
       "        text-align: right;\n",
       "    }\n",
       "</style>\n",
       "<table border=\"1\" class=\"dataframe\">\n",
       "  <thead>\n",
       "    <tr style=\"text-align: right;\">\n",
       "      <th></th>\n",
       "      <th>Zone</th>\n",
       "      <th>P-Wo</th>\n",
       "      <th>P-Sh</th>\n",
       "      <th>Ei</th>\n",
       "      <th>Ci</th>\n",
       "      <th>Inci</th>\n",
       "      <th>Sti</th>\n",
       "      <th>hhsi</th>\n",
       "      <th>production</th>\n",
       "    </tr>\n",
       "  </thead>\n",
       "  <tbody>\n",
       "    <tr>\n",
       "      <th>0</th>\n",
       "      <td>1</td>\n",
       "      <td>182</td>\n",
       "      <td>390</td>\n",
       "      <td>300</td>\n",
       "      <td>0.265</td>\n",
       "      <td>2.943801</td>\n",
       "      <td>199</td>\n",
       "      <td>3.26</td>\n",
       "      <td>572</td>\n",
       "    </tr>\n",
       "    <tr>\n",
       "      <th>1</th>\n",
       "      <td>2</td>\n",
       "      <td>390</td>\n",
       "      <td>299</td>\n",
       "      <td>266</td>\n",
       "      <td>0.265</td>\n",
       "      <td>2.943801</td>\n",
       "      <td>127</td>\n",
       "      <td>3.18</td>\n",
       "      <td>689</td>\n",
       "    </tr>\n",
       "    <tr>\n",
       "      <th>2</th>\n",
       "      <td>3</td>\n",
       "      <td>1010</td>\n",
       "      <td>695</td>\n",
       "      <td>520</td>\n",
       "      <td>0.209</td>\n",
       "      <td>2.649290</td>\n",
       "      <td>309</td>\n",
       "      <td>3.15</td>\n",
       "      <td>1705</td>\n",
       "    </tr>\n",
       "    <tr>\n",
       "      <th>3</th>\n",
       "      <td>4</td>\n",
       "      <td>515</td>\n",
       "      <td>772</td>\n",
       "      <td>439</td>\n",
       "      <td>0.209</td>\n",
       "      <td>2.649290</td>\n",
       "      <td>273</td>\n",
       "      <td>3.08</td>\n",
       "      <td>1287</td>\n",
       "    </tr>\n",
       "    <tr>\n",
       "      <th>4</th>\n",
       "      <td>5</td>\n",
       "      <td>216</td>\n",
       "      <td>136</td>\n",
       "      <td>110</td>\n",
       "      <td>0.265</td>\n",
       "      <td>2.943801</td>\n",
       "      <td>67</td>\n",
       "      <td>3.45</td>\n",
       "      <td>352</td>\n",
       "    </tr>\n",
       "    <tr>\n",
       "      <th>...</th>\n",
       "      <td>...</td>\n",
       "      <td>...</td>\n",
       "      <td>...</td>\n",
       "      <td>...</td>\n",
       "      <td>...</td>\n",
       "      <td>...</td>\n",
       "      <td>...</td>\n",
       "      <td>...</td>\n",
       "      <td>...</td>\n",
       "    </tr>\n",
       "    <tr>\n",
       "      <th>56</th>\n",
       "      <td>57</td>\n",
       "      <td>2134</td>\n",
       "      <td>2109</td>\n",
       "      <td>1105</td>\n",
       "      <td>0.188</td>\n",
       "      <td>2.532398</td>\n",
       "      <td>661</td>\n",
       "      <td>3.29</td>\n",
       "      <td>4243</td>\n",
       "    </tr>\n",
       "    <tr>\n",
       "      <th>57</th>\n",
       "      <td>58</td>\n",
       "      <td>2189</td>\n",
       "      <td>1502</td>\n",
       "      <td>1167</td>\n",
       "      <td>0.188</td>\n",
       "      <td>2.532398</td>\n",
       "      <td>595</td>\n",
       "      <td>3.09</td>\n",
       "      <td>3691</td>\n",
       "    </tr>\n",
       "    <tr>\n",
       "      <th>58</th>\n",
       "      <td>59</td>\n",
       "      <td>1817</td>\n",
       "      <td>930</td>\n",
       "      <td>1058</td>\n",
       "      <td>0.188</td>\n",
       "      <td>2.532398</td>\n",
       "      <td>726</td>\n",
       "      <td>3.16</td>\n",
       "      <td>2747</td>\n",
       "    </tr>\n",
       "    <tr>\n",
       "      <th>59</th>\n",
       "      <td>60</td>\n",
       "      <td>2502</td>\n",
       "      <td>1752</td>\n",
       "      <td>1319</td>\n",
       "      <td>0.188</td>\n",
       "      <td>2.532398</td>\n",
       "      <td>793</td>\n",
       "      <td>3.24</td>\n",
       "      <td>4254</td>\n",
       "    </tr>\n",
       "    <tr>\n",
       "      <th>60</th>\n",
       "      <td>61</td>\n",
       "      <td>1070</td>\n",
       "      <td>402</td>\n",
       "      <td>563</td>\n",
       "      <td>0.188</td>\n",
       "      <td>2.532398</td>\n",
       "      <td>390</td>\n",
       "      <td>3.25</td>\n",
       "      <td>1472</td>\n",
       "    </tr>\n",
       "  </tbody>\n",
       "</table>\n",
       "<p>61 rows × 9 columns</p>\n",
       "</div>"
      ],
      "text/plain": [
       "    Zone  P-Wo  P-Sh    Ei     Ci      Inci  Sti  hhsi  production\n",
       "0      1   182   390   300  0.265  2.943801  199  3.26         572\n",
       "1      2   390   299   266  0.265  2.943801  127  3.18         689\n",
       "2      3  1010   695   520  0.209  2.649290  309  3.15        1705\n",
       "3      4   515   772   439  0.209  2.649290  273  3.08        1287\n",
       "4      5   216   136   110  0.265  2.943801   67  3.45         352\n",
       "..   ...   ...   ...   ...    ...       ...  ...   ...         ...\n",
       "56    57  2134  2109  1105  0.188  2.532398  661  3.29        4243\n",
       "57    58  2189  1502  1167  0.188  2.532398  595  3.09        3691\n",
       "58    59  1817   930  1058  0.188  2.532398  726  3.16        2747\n",
       "59    60  2502  1752  1319  0.188  2.532398  793  3.24        4254\n",
       "60    61  1070   402   563  0.188  2.532398  390  3.25        1472\n",
       "\n",
       "[61 rows x 9 columns]"
      ]
     },
     "execution_count": 133,
     "metadata": {},
     "output_type": "execute_result"
    }
   ],
   "source": [
    "df_shk = pd.read_csv('shahre_kord.csv')\n",
    "df_shk = df_shk[df_shk.Ei != 0].reset_index(drop = True)\n",
    "df_shk.Inci = df_shk.Inci / 10e5\n",
    "df_shk = df_shk[df_shk.hhsi<5].reset_index(drop = True)\n",
    "df_shk.Zone = list(range(1, df_shk.shape[0]+1))\n",
    "y = df_shk['production']\n",
    "X = df_shk.drop(['Zone', 'P-Wo', 'P-Sh','production'], axis = 1).reset_index(drop = True)\n",
    "df_shk"
   ]
  },
  {
   "cell_type": "code",
   "execution_count": 134,
   "id": "76a34e06",
   "metadata": {},
   "outputs": [],
   "source": [
    "min_max_scaler = preprocessing.MinMaxScaler()\n",
    "\n",
    "X_normalized = X.values #returns a numpy array\n",
    "X_normalized = min_max_scaler.fit_transform(X_normalized)\n",
    "X_normalized = pd.DataFrame(X_normalized)"
   ]
  },
  {
   "cell_type": "code",
   "execution_count": 135,
   "id": "f6b0c896",
   "metadata": {},
   "outputs": [
    {
     "data": {
      "text/html": [
       "<div>\n",
       "<style scoped>\n",
       "    .dataframe tbody tr th:only-of-type {\n",
       "        vertical-align: middle;\n",
       "    }\n",
       "\n",
       "    .dataframe tbody tr th {\n",
       "        vertical-align: top;\n",
       "    }\n",
       "\n",
       "    .dataframe thead th {\n",
       "        text-align: right;\n",
       "    }\n",
       "</style>\n",
       "<table border=\"1\" class=\"dataframe\">\n",
       "  <thead>\n",
       "    <tr style=\"text-align: right;\">\n",
       "      <th></th>\n",
       "      <th>0</th>\n",
       "      <th>1</th>\n",
       "      <th>2</th>\n",
       "      <th>3</th>\n",
       "      <th>4</th>\n",
       "    </tr>\n",
       "  </thead>\n",
       "  <tbody>\n",
       "    <tr>\n",
       "      <th>0</th>\n",
       "      <td>0.122844</td>\n",
       "      <td>0.693069</td>\n",
       "      <td>0.465280</td>\n",
       "      <td>0.127080</td>\n",
       "      <td>0.410853</td>\n",
       "    </tr>\n",
       "    <tr>\n",
       "      <th>1</th>\n",
       "      <td>0.105071</td>\n",
       "      <td>0.693069</td>\n",
       "      <td>0.465280</td>\n",
       "      <td>0.072617</td>\n",
       "      <td>0.348837</td>\n",
       "    </tr>\n",
       "    <tr>\n",
       "      <th>2</th>\n",
       "      <td>0.237846</td>\n",
       "      <td>0.415842</td>\n",
       "      <td>0.352715</td>\n",
       "      <td>0.210287</td>\n",
       "      <td>0.325581</td>\n",
       "    </tr>\n",
       "    <tr>\n",
       "      <th>3</th>\n",
       "      <td>0.195504</td>\n",
       "      <td>0.415842</td>\n",
       "      <td>0.352715</td>\n",
       "      <td>0.183056</td>\n",
       "      <td>0.271318</td>\n",
       "    </tr>\n",
       "    <tr>\n",
       "      <th>4</th>\n",
       "      <td>0.023523</td>\n",
       "      <td>0.693069</td>\n",
       "      <td>0.465280</td>\n",
       "      <td>0.027231</td>\n",
       "      <td>0.558140</td>\n",
       "    </tr>\n",
       "    <tr>\n",
       "      <th>...</th>\n",
       "      <td>...</td>\n",
       "      <td>...</td>\n",
       "      <td>...</td>\n",
       "      <td>...</td>\n",
       "      <td>...</td>\n",
       "    </tr>\n",
       "    <tr>\n",
       "      <th>56</th>\n",
       "      <td>0.543649</td>\n",
       "      <td>0.311881</td>\n",
       "      <td>0.308037</td>\n",
       "      <td>0.476551</td>\n",
       "      <td>0.434109</td>\n",
       "    </tr>\n",
       "    <tr>\n",
       "      <th>57</th>\n",
       "      <td>0.576059</td>\n",
       "      <td>0.311881</td>\n",
       "      <td>0.308037</td>\n",
       "      <td>0.426626</td>\n",
       "      <td>0.279070</td>\n",
       "    </tr>\n",
       "    <tr>\n",
       "      <th>58</th>\n",
       "      <td>0.519080</td>\n",
       "      <td>0.311881</td>\n",
       "      <td>0.308037</td>\n",
       "      <td>0.525719</td>\n",
       "      <td>0.333333</td>\n",
       "    </tr>\n",
       "    <tr>\n",
       "      <th>59</th>\n",
       "      <td>0.655515</td>\n",
       "      <td>0.311881</td>\n",
       "      <td>0.308037</td>\n",
       "      <td>0.576399</td>\n",
       "      <td>0.395349</td>\n",
       "    </tr>\n",
       "    <tr>\n",
       "      <th>60</th>\n",
       "      <td>0.260324</td>\n",
       "      <td>0.311881</td>\n",
       "      <td>0.308037</td>\n",
       "      <td>0.271558</td>\n",
       "      <td>0.403101</td>\n",
       "    </tr>\n",
       "  </tbody>\n",
       "</table>\n",
       "<p>61 rows × 5 columns</p>\n",
       "</div>"
      ],
      "text/plain": [
       "           0         1         2         3         4\n",
       "0   0.122844  0.693069  0.465280  0.127080  0.410853\n",
       "1   0.105071  0.693069  0.465280  0.072617  0.348837\n",
       "2   0.237846  0.415842  0.352715  0.210287  0.325581\n",
       "3   0.195504  0.415842  0.352715  0.183056  0.271318\n",
       "4   0.023523  0.693069  0.465280  0.027231  0.558140\n",
       "..       ...       ...       ...       ...       ...\n",
       "56  0.543649  0.311881  0.308037  0.476551  0.434109\n",
       "57  0.576059  0.311881  0.308037  0.426626  0.279070\n",
       "58  0.519080  0.311881  0.308037  0.525719  0.333333\n",
       "59  0.655515  0.311881  0.308037  0.576399  0.395349\n",
       "60  0.260324  0.311881  0.308037  0.271558  0.403101\n",
       "\n",
       "[61 rows x 5 columns]"
      ]
     },
     "execution_count": 135,
     "metadata": {},
     "output_type": "execute_result"
    }
   ],
   "source": [
    "X_normalized"
   ]
  },
  {
   "cell_type": "code",
   "execution_count": 136,
   "id": "d51bfdbe",
   "metadata": {
    "scrolled": true
   },
   "outputs": [],
   "source": [
    "x_train, x_test, y_train, y_test = train_test_split(X_normalized, y, test_size=0.3, random_state=2)"
   ]
  },
  {
   "cell_type": "code",
   "execution_count": 162,
   "id": "9587ca19",
   "metadata": {},
   "outputs": [],
   "source": [
    "# make sure to import all of our modules\n",
    "# sklearn package\n",
    "from sklearn.preprocessing import PolynomialFeatures\n",
    "from sklearn.linear_model import LinearRegression\n",
    "from sklearn.metrics import mean_squared_error\n",
    "# dataframes\n",
    "import pandas as pd\n",
    "# computation\n",
    "import numpy as np\n",
    "# visualization\n",
    "import matplotlib.pyplot as plt\n",
    "\n",
    "# PolynomialFeatures will create a new matrix consisting of all polynomial combinations \n",
    "# of the features with a degree less than or equal to the degree we just gave the model (2)\n",
    "poly_model = PolynomialFeatures(degree=3)\n",
    "\n",
    "# transform out polynomial features\n",
    "poly_x_values = poly_model.fit_transform(x_train)"
   ]
  },
  {
   "cell_type": "code",
   "execution_count": 163,
   "id": "3d1e893a",
   "metadata": {},
   "outputs": [],
   "source": [
    "y_values = y_train\n",
    "x_values = x_train"
   ]
  },
  {
   "cell_type": "code",
   "execution_count": 164,
   "id": "adf7e8a3",
   "metadata": {},
   "outputs": [
    {
     "data": {
      "text/plain": [
       "0.5345224838248488"
      ]
     },
     "execution_count": 164,
     "metadata": {},
     "output_type": "execute_result"
    }
   ],
   "source": [
    "# let's fit the model\n",
    "#poly_model.fit(poly_x_values, y_values)\n",
    "\n",
    "# we use linear regression as a base!!! ** sometimes misunderstood **\n",
    "regression_model = LinearRegression()\n",
    "\n",
    "regression_model.fit(poly_x_values, y_values)\n",
    "\n",
    "y_pred = regression_model.predict(poly_x_values)\n",
    "\n",
    "y_pred = np.asarray(y_pred, dtype = 'int')\n",
    "\n",
    "mean_squared_error(y_values, y_pred, squared=False)"
   ]
  },
  {
   "cell_type": "code",
   "execution_count": 143,
   "id": "5ee323e4",
   "metadata": {},
   "outputs": [
    {
     "data": {
      "text/plain": [
       "0.8221404317292357"
      ]
     },
     "execution_count": 143,
     "metadata": {},
     "output_type": "execute_result"
    }
   ],
   "source": [
    "regression_model = LinearRegression()\n",
    "\n",
    "regression_model.fit(x_values, y_values)\n",
    "regression_model.score(x_test, y_test)"
   ]
  },
  {
   "cell_type": "code",
   "execution_count": 94,
   "id": "4af51291",
   "metadata": {},
   "outputs": [
    {
     "data": {
      "image/png": "[encoded data removed]",
      "text/plain": [
       "<Figure size 640x480 with 1 Axes>"
      ]
     },
     "metadata": {},
     "output_type": "display_data"
    }
   ],
   "source": [
    "plt.scatter(df_shk.Ei, df_shk.production)\n",
    "plt.show()"
   ]
  },
  {
   "cell_type": "code",
   "execution_count": 97,
   "id": "70a39442",
   "metadata": {},
   "outputs": [
    {
     "data": {
      "image/png": "[encoded data removed]",
      "text/plain": [
       "<Figure size 640x480 with 1 Axes>"
      ]
     },
     "metadata": {},
     "output_type": "display_data"
    }
   ],
   "source": [
    "plt.scatter(df_shk.Sti, df_shk.production)\n",
    "plt.show()"
   ]
  },
  {
   "cell_type": "code",
   "execution_count": 98,
   "id": "93c3c45c",
   "metadata": {},
   "outputs": [
    {
     "data": {
      "image/png": "[encoded data removed]",
      "text/plain": [
       "<Figure size 640x480 with 1 Axes>"
      ]
     },
     "metadata": {},
     "output_type": "display_data"
    }
   ],
   "source": [
    "plt.scatter(df_shk.hhsi, df_shk.production)\n",
    "plt.show()"
   ]
  },
  {
   "cell_type": "code",
   "execution_count": 109,
   "id": "ecab5e7a",
   "metadata": {},
   "outputs": [
    {
     "data": {
      "text/plain": [
       "array([3200.03961081, 2198.41441007,  231.9082086 ])"
      ]
     },
     "execution_count": 109,
     "metadata": {},
     "output_type": "execute_result"
    }
   ],
   "source": [
    "regression_model.coef_"
   ]
  },
  {
   "cell_type": "code",
   "execution_count": 110,
   "id": "b1f66909",
   "metadata": {},
   "outputs": [
    {
     "data": {
      "text/plain": [
       "198.16679347862691"
      ]
     },
     "execution_count": 110,
     "metadata": {},
     "output_type": "execute_result"
    }
   ],
   "source": [
    "regression_model.intercept_"
   ]
  },
  {
   "cell_type": "code",
   "execution_count": 145,
   "id": "f9f24ca0",
   "metadata": {},
   "outputs": [
    {
     "data": {
      "text/plain": [
       "(30, 2)"
      ]
     },
     "execution_count": 145,
     "metadata": {},
     "output_type": "execute_result"
    }
   ],
   "source": [
    "a = pd.DataFrame(data = {'predict':y_pred,'actual':y_train})\n",
    "a[a['predict'] == a['actual']].shape"
   ]
  },
  {
   "cell_type": "code",
   "execution_count": 146,
   "id": "d5cf6a1b",
   "metadata": {},
   "outputs": [
    {
     "data": {
      "text/plain": [
       "0.7142857142857143"
      ]
     },
     "execution_count": 146,
     "metadata": {},
     "output_type": "execute_result"
    }
   ],
   "source": [
    "30/42"
   ]
  },
  {
   "cell_type": "code",
   "execution_count": 127,
   "id": "b6431139",
   "metadata": {},
   "outputs": [
    {
     "data": {
      "text/plain": [
       "0.6885245901639344"
      ]
     },
     "execution_count": 127,
     "metadata": {},
     "output_type": "execute_result"
    }
   ],
   "source": [
    "42/61"
   ]
  },
  {
   "cell_type": "code",
   "execution_count": 165,
   "id": "a6059870",
   "metadata": {},
   "outputs": [
    {
     "data": {
      "text/plain": [
       "2519.309523809524"
      ]
     },
     "execution_count": 165,
     "metadata": {},
     "output_type": "execute_result"
    }
   ],
   "source": [
    "a.actual.mean()"
   ]
  },
  {
   "cell_type": "code",
   "execution_count": 166,
   "id": "c999f550",
   "metadata": {},
   "outputs": [
    {
     "data": {
      "text/plain": [
       "5478"
      ]
     },
     "execution_count": 166,
     "metadata": {},
     "output_type": "execute_result"
    }
   ],
   "source": [
    "a.actual.max()"
   ]
  },
  {
   "cell_type": "code",
   "execution_count": 167,
   "id": "1e5aa7da",
   "metadata": {},
   "outputs": [
    {
     "data": {
      "text/plain": [
       "2519.309523809524"
      ]
     },
     "execution_count": 167,
     "metadata": {},
     "output_type": "execute_result"
    }
   ],
   "source": [
    "a.actual.mean()"
   ]
  },
  {
   "cell_type": "code",
   "execution_count": 139,
   "id": "a25825bb",
   "metadata": {},
   "outputs": [
    {
     "data": {
      "text/plain": [
       "[<matplotlib.lines.Line2D at 0x21c9fce95e0>]"
      ]
     },
     "execution_count": 139,
     "metadata": {},
     "output_type": "execute_result"
    },
    {
     "data": {
      "image/png": "[encoded data removed]",
      "text/plain": [
       "<Figure size 640x480 with 1 Axes>"
      ]
     },
     "metadata": {},
     "output_type": "display_data"
    }
   ],
   "source": [
    "number_degrees = [1,2,3,4,5,6,7]\n",
    "plt_mean_squared_error = []\n",
    "for degree in number_degrees:\n",
    "\n",
    "    poly_model = PolynomialFeatures(degree=degree)\n",
    "\n",
    "    poly_x_values = poly_model.fit_transform(x_values)\n",
    "    #poly_model.fit(poly_x_values, y_values)\n",
    "\n",
    "    regression_model = LinearRegression()\n",
    "    regression_model.fit(poly_x_values, y_values)\n",
    "    y_pred = regression_model.predict(poly_x_values)\n",
    "\n",
    "    plt_mean_squared_error.append(mean_squared_error(y_values, y_pred, squared=False))\n",
    "\n",
    "plt.scatter(number_degrees,plt_mean_squared_error, color=\"green\")\n",
    "plt.plot(number_degrees,plt_mean_squared_error, color=\"red\") "
   ]
  },
  {
   "cell_type": "code",
   "execution_count": null,
   "id": "e68c32ea",
   "metadata": {},
   "outputs": [],
   "source": []
  }
 ],
 "metadata": {
  "kernelspec": {
   "display_name": "Python 3 (ipykernel)",
   "language": "python",
   "name": "python3"
  },
  "language_info": {
   "codemirror_mode": {
    "name": "ipython",
    "version": 3
   },
   "file_extension": ".py",
   "mimetype": "text/x-python",
   "name": "python",
   "nbconvert_exporter": "python",
   "pygments_lexer": "ipython3",
   "version": "3.9.13"
  }
 },
 "nbformat": 4,
 "nbformat_minor": 5
}
